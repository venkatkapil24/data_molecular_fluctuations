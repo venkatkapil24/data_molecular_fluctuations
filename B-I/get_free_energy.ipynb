{
 "cells": [
  {
   "cell_type": "code",
   "execution_count": 1,
   "metadata": {},
   "outputs": [],
   "source": [
    "import os\n",
    "import json\n",
    "import subprocess\n",
    "\n",
    "import numpy as np\n",
    "import matplotlib.pyplot as plt\n",
    "from scipy.interpolate import interp1d\n",
    "from scipy.optimize import minimize"
   ]
  },
  {
   "cell_type": "code",
   "execution_count": 2,
   "metadata": {},
   "outputs": [],
   "source": [
    "def get_thermo_harm(physics, quantity, hw, kBT):\n",
    "  \"\"\"\n",
    "  Returns the classical / quantum thermodynamic quantity of\n",
    "  a harmonic oscillator with frequency hw (atomic units)\n",
    "  at a given temperature (atomic units).\n",
    "  \"\"\"\n",
    "\n",
    "  if physics == \"quantum\":\n",
    "\n",
    "    if quantity == \"A\":\n",
    "      return fA_harm_quantum(hw, kBT)\n",
    "    elif quantity == \"E\":\n",
    "      return fE_harm_quantum(hw, kBT)\n",
    "    elif quantity == \"S\":\n",
    "      return fTS_harm_quantum(hw, kBT)\n",
    "    elif quantity == \"C\":\n",
    "      return fC_harm_quantum(hw, kBT)\n",
    "\n",
    "  elif physics == \"classical\":\n",
    "\n",
    "    if quantity == \"A\":\n",
    "      return fA_harm_classical(hw, kBT)\n",
    "    elif quantity == \"E\":\n",
    "      return fE_harm_classical(hw, kBT)\n",
    "    elif quantity == \"S\":\n",
    "      return fTS_harm_classical(hw, kBT)\n",
    "\n",
    "def fC_harm_quantum(hw, kBT):\n",
    "  x = hw / (2.0 * kBT)\n",
    "  return np.sum((x / np.sinh(x))**2)\n",
    "\n",
    "def fA_harm_quantum(hw, kBT):\n",
    "  return np.sum(hw / 2.0 + kBT * np.log(1.0 - np.exp(-hw / kBT)))\n",
    "\n",
    "def fE_harm_quantum(hw, kBT):\n",
    "  return np.sum(hw * (0.50 + 1.0 / (np.exp(hw / kBT) -1.0)))\n",
    "\n",
    "def fTS_harm_quantum(hw, kBT):\n",
    "  return E_harm_quantum(hw, kBT) - A_harm_quantum(hw, kBT)\n",
    "\n",
    "def fA_harm_classical(hw, kBT):\n",
    "  return np.sum(kBT * np.log(hw / kBT))\n",
    "\n",
    "def fE_harm_classical(hw, kBT):\n",
    "  return len(hw) * kBT\n",
    "\n",
    "def fTS_harm_classical(hw, kBT):\n",
    "  return E_harm_classical(hw, kBT) - A_harm_classical(hw, kBT)"
   ]
  },
  {
   "cell_type": "code",
   "execution_count": 3,
   "metadata": {},
   "outputs": [],
   "source": [
    "K2au = 3.1668105e-06\n",
    "Hartree2Kcalmol = 627.50947\n",
    "KcaltoKJ = 4.184\n",
    "MPa2au = 3.398931e-08\n",
    "Bohr3tokJmolGPa = 0.08923892\n",
    "\n",
    "DROOT = \"./PINST-CELL/\"\n",
    "\n",
    "n_units = np.loadtxt('nunits.data')\n",
    "\n",
    "T = np.loadtxt('temperature.data')\n",
    "kBT =  T * K2au"
   ]
  },
  {
   "cell_type": "code",
   "execution_count": 4,
   "metadata": {},
   "outputs": [],
   "source": [
    "if DROOT == './QHA-CELL/':\n",
    "    \n",
    "    A_qharm_quantum_list = []\n",
    "    A_qharm2_quantum_list = []\n",
    "    Umin_list  = []\n",
    "    Umin2_list = []\n",
    "\n",
    "    # Loads relative volumes\n",
    "    rv_list = np.loadtxt(DROOT + '/REL_VOLUMES', dtype=str)\n",
    "    \n",
    "    for rv in rv_list:\n",
    "        # Extracts the frquencies and discards the zero modes.\n",
    "        hw2 = np.loadtxt(DROOT + str(rv) + \"/HARM/simulation.phonons.eigval\")\n",
    "        Umin = np.loadtxt(DROOT + str(rv) + '/HARM/simulation.out', usecols=(1,), ndmin=1)[-1] * Hartree2Kcalmol / n_units * KcaltoKJ\n",
    "        try:\n",
    "            Umin2 = np.loadtxt(DROOT + str(rv) + '/HARM/simulation.pot', usecols=(0,1), ndmin=1) * Hartree2Kcalmol / n_units * KcaltoKJ\n",
    "            #print (Umin2)\n",
    "            Umin2 = np.sum(Umin2)\n",
    "        except:\n",
    "            pass\n",
    "\n",
    "        # Discards the first three frequencies which correspond to those of the translational modes.\n",
    "        # Compute the harmonic vibrational free energy.\n",
    "\n",
    "        N = len(hw2) / 3 \n",
    "        hw2 = hw2[3:]\n",
    "        hw = np.sqrt(hw2)\n",
    "\n",
    "        A_harm_quantum = Umin + get_thermo_harm(physics=\"quantum\", hw=hw, kBT=kBT, quantity=\"A\") * Hartree2Kcalmol / n_units * KcaltoKJ \n",
    "        A_qharm_quantum_list.append(A_harm_quantum)\n",
    "        A_qharm2_quantum_list.append(A_harm_quantum - Umin + Umin2)\n",
    "        Umin_list.append(Umin)\n",
    "        try:\n",
    "            Umin2_list.append(Umin2)\n",
    "        except:\n",
    "            pass\n",
    "\n",
    "    rv_list = [float(rv) for rv in rv_list]\n",
    "    plt.plot(rv_list, A_qharm_quantum_list - min(A_qharm_quantum_list), label = 'QHA')\n",
    "    f_A_qharm = interp1d(rv_list, A_qharm_quantum_list, bounds_error=False, fill_value=\"extrapolate\")\n",
    "    A_qharm_quantum = f_A_qharm(minimize(f_A_qharm, x0=1.0, method='CG', tol=1e-6)['x'][0])\n",
    "    print (\"%-50s %-20s %-10.5f\" % (\"Quasi harmonic free energy\", \"[kJ_mol]\", A_qharm_quantum))\n",
    "    try:\n",
    "        plt.plot(rv_list, A_qharm2_quantum_list - min(A_qharm2_quantum_list), label = 'QHA + corr')\n",
    "        f_A_qharm2 = interp1d(rv_list, A_qharm2_quantum_list, bounds_error=False, fill_value=\"extrapolate\")\n",
    "        A_qharm2_quantum = f_A_qharm2(minimize(f_A_qharm2, x0=1.0, method='CG', tol=1e-6)['x'][0])\n",
    "        print (\"%-50s %-20s %-10.5f\" % (\"Quasi harmonic free energy + corr\", \"[kJ_mol]\", A_qharm2_quantum))\n",
    "    except:\n",
    "        pass\n",
    "    plt.legend()\n",
    "    \n",
    "   \n",
    "\n",
    "    \n"
   ]
  },
  {
   "cell_type": "markdown",
   "metadata": {},
   "source": [
    "# HARMONIC ANALYSIS"
   ]
  },
  {
   "cell_type": "code",
   "execution_count": 5,
   "metadata": {},
   "outputs": [
    {
     "name": "stdout",
     "output_type": "stream",
     "text": [
      "Number of atoms                                                         192       \n",
      "Number of units                                                         16        \n",
      "Minimum energy                                     [kJ_mol]             -99133.26867\n",
      "Classical harmonic free energy                     [kJ_mol]             -99059.52693\n",
      "Quantum harmonic free energy                       [kJ_mol]             -98864.46710\n",
      "Quantum harmonic free energy - Minimum energy      [kJ_mol]             268.80157 \n",
      "Quantum harmonic free energy - Minimum energy      [kJ_mol]             268.80157 \n"
     ]
    }
   ],
   "source": [
    "# Extracts the frquencies and discards the zero modes.\n",
    "hw2 = np.loadtxt(DROOT + \"HARM/simulation.phonons.eigval\")\n",
    "Umin = np.loadtxt(DROOT + 'HARM/simulation.out', usecols=(1,), ndmin=1)[-1] * Hartree2Kcalmol / n_units * KcaltoKJ\n",
    "\n",
    "# Discards the first three frequencies which correspond to those of the translational modes.\n",
    "# Compute the harmonic vibrational free energy.\n",
    "\n",
    "N = len(hw2) / 3 \n",
    "hw2 = hw2[3:]\n",
    "hw = np.sqrt(hw2)\n",
    "\n",
    "A_harm_classical = Umin + get_thermo_harm(physics=\"classical\", hw=hw, kBT=kBT, quantity=\"A\") * Hartree2Kcalmol / n_units * KcaltoKJ \n",
    "A_harm_quantum = Umin + get_thermo_harm(physics=\"quantum\", hw=hw, kBT=kBT, quantity=\"A\") * Hartree2Kcalmol / n_units * KcaltoKJ \n",
    "\n",
    "print (\"%-50s %-20s %-10d\" % (\"Number of atoms\", \"\", N))\n",
    "print (\"%-50s %-20s %-10d\" % (\"Number of units\", \"\", n_units))\n",
    "print (\"%-50s %-20s %-10.5f\" % (\"Minimum energy\", \"[kJ_mol]\", Umin))\n",
    "print (\"%-50s %-20s %-10.5f\" % (\"Classical harmonic free energy\", \"[kJ_mol]\", A_harm_classical))\n",
    "print (\"%-50s %-20s %-10.5f\" % (\"Quantum harmonic free energy\", \"[kJ_mol]\", A_harm_quantum))\n",
    "print (\"%-50s %-20s %-10.5f\" % (\"Quantum harmonic free energy - Minimum energy\", \"[kJ_mol]\", A_harm_quantum -Umin))\n",
    "print (\"%-50s %-20s %-10.5f\" % (\"Quantum harmonic free energy - Minimum energy\", \"[kJ_mol]\", A_harm_quantum -Umin))"
   ]
  },
  {
   "cell_type": "markdown",
   "metadata": {},
   "source": [
    "# ANHARMONIC ANALYSIS"
   ]
  },
  {
   "cell_type": "markdown",
   "metadata": {},
   "source": [
    "### QUANTUM HARMONIC TO ANHARMONIC "
   ]
  },
  {
   "cell_type": "code",
   "execution_count": 6,
   "metadata": {},
   "outputs": [
    {
     "name": "stdout",
     "output_type": "stream",
     "text": [
      "Quantum anharmonic free energy                                         [kJ_mol]   -98867.47953 +/- 0.03070   \n",
      "Quantum anharmonic free energy - Quantum anharmonic free energy        [kJ_mol]   -3.01243   +/- 0.03070   \n",
      "\n",
      "Quantum anharmonic energy                                              [kJ_mol]   -98863.88106 +/- 0.05849   \n",
      "\n",
      "Quantum anharmonic entropy                                             [kJ_mol]   3.59847    +/- 0.06605   \n",
      "d G / d T                                                              [kJ_mol / K] -0.03598   +/- -0.00066  \n"
     ]
    },
    {
     "data": {
      "image/png": "[encoded data removed]",
      "text/plain": [
       "<Figure size 432x288 with 1 Axes>"
      ]
     },
     "metadata": {
      "needs_background": "light"
     },
     "output_type": "display_data"
    }
   ],
   "source": [
    "# Performs a TI from aharmonic reference to an anharmonic one.\n",
    "\n",
    "CDIR = DROOT + \"/QTI-HARM-TO-ANHARM/\"\n",
    "l_list = [l.decode('ascii') for l in np.loadtxt(CDIR + \"LAMBDAS\", dtype='S32')]\n",
    "\n",
    "nfeq = 10\n",
    "nfmax = 1000000\n",
    "nblocks = 3\n",
    "mf_blocks = np.zeros((len(l_list), nblocks))\n",
    "e_blocks = np.zeros(nblocks)\n",
    "\n",
    "for i,il in enumerate(l_list):\n",
    "    U_harm = np.loadtxt(CDIR + str(il) + \"/simulation.pots\", usecols=(2))[nfeq:nfeq + nfmax] * Hartree2Kcalmol / n_units * KcaltoKJ\n",
    "    U_anharm = np.loadtxt(CDIR + str(il) + \"/simulation.pots\", usecols=(0))[nfeq:nfeq + nfmax] * Hartree2Kcalmol / n_units * KcaltoKJ\n",
    "    U_anharm += np.loadtxt(CDIR + str(il) + \"/simulation.pots\", usecols=(1))[nfeq:nfeq + nfmax] * Hartree2Kcalmol / n_units * KcaltoKJ\n",
    "\n",
    "    E = np.loadtxt(CDIR + str(il) + \"/simulation.out\", usecols=(4))[nfeq:nfeq + nfmax] * Hartree2Kcalmol / n_units * KcaltoKJ\n",
    "    E += np.loadtxt(CDIR + str(il) + \"/simulation.out\", usecols=(5))[nfeq:nfeq + nfmax] * Hartree2Kcalmol / n_units * KcaltoKJ\n",
    "    #np.random.shuffle(U_harm)\n",
    "    #np.random.shuffle(U_anharm)\n",
    "    \n",
    "    mf_block_list = np.array_split((U_anharm - U_harm), nblocks)\n",
    "    mf_blocks[i] = [np.mean(mf) for mf in mf_block_list]\n",
    "    \n",
    "    e_block_list = np.array_split((E), nblocks)\n",
    "    e_blocks = [np.mean(e) for e in e_block_list]\n",
    "\n",
    "dA_quantum_anharmonic_minus_harmonic_list = []\n",
    "for j in range(nblocks):\n",
    "    x = np.asarray([float(il) for il in l_list])\n",
    "    y = mf_blocks.T[j]\n",
    "    dA_quantum_anharmonic_minus_harmonic_list.append(np.trapz(x=x,y=y))\n",
    "    plt.title(\"Quantum Harmonic to Quantum Anharmonic Thermodynamic Integration\", fontsize=14)\n",
    "    plt.xlabel('Kirkwood coefficient [Dimensionless]')\n",
    "    plt.ylabel('Mean force [kJ_mol]')\n",
    "    plt.plot(x, y)\n",
    "\n",
    "dA_quantum_anharmonic_minus_harmonic = np.mean(dA_quantum_anharmonic_minus_harmonic_list)\n",
    "dA_quantum_anharmonic_minus_harmonic_err =np.std(dA_quantum_anharmonic_minus_harmonic_list) / np.sqrt(nblocks)\n",
    "\n",
    "A_anharm_quantum = A_harm_quantum + dA_quantum_anharmonic_minus_harmonic\n",
    "A_anharm_quantum_err = dA_quantum_anharmonic_minus_harmonic_err\n",
    "\n",
    "E_anharm_quantum = np.mean(e_blocks)\n",
    "E_anharm_quantum_err = np.std(e_blocks) / np.sqrt(nblocks)\n",
    "\n",
    "ST_anharm_quantum = E_anharm_quantum - A_anharm_quantum\n",
    "ST_anharm_quantum_err = np.sqrt(A_anharm_quantum_err**2 + E_anharm_quantum_err**2)\n",
    "\n",
    "print (\"%-70s %-10s %-10.5f +/- %-10.5f\" % (\"Quantum anharmonic free energy\", \"[kJ_mol]\", A_anharm_quantum, A_anharm_quantum_err))\n",
    "print (\"%-70s %-10s %-10.5f +/- %-10.5f\" % (\"Quantum anharmonic free energy - Quantum anharmonic free energy\", \"[kJ_mol]\", A_anharm_quantum - A_harm_quantum, dA_quantum_anharmonic_minus_harmonic_err))\n",
    "\n",
    "print (\"\")\n",
    "print (\"%-70s %-10s %-10.5f +/- %-10.5f\" % (\"Quantum anharmonic energy\", \"[kJ_mol]\", E_anharm_quantum, E_anharm_quantum_err))\n",
    "\n",
    "print (\"\")\n",
    "print (\"%-70s %-10s %-10.5f +/- %-10.5f\" % (\"Quantum anharmonic entropy\", \"[kJ_mol]\", ST_anharm_quantum, ST_anharm_quantum_err))\n",
    "print (\"%-70s %-10s %-10.5f +/- %-10.5f\" % (\"d G / d T\", \"[kJ_mol / K]\", -ST_anharm_quantum / T, -ST_anharm_quantum_err/ T))\n",
    "\n"
   ]
  },
  {
   "cell_type": "code",
   "execution_count": 7,
   "metadata": {},
   "outputs": [
    {
     "name": "stdout",
     "output_type": "stream",
     "text": [
      "Quantum anharmonic Gibbs free energy                                             [kJ_mol]   -98868.05428\n",
      "Quantum anharmonic Gibbs free energy - Quantum anharmonic free energy            [kJ_mol]   -0.57475  \n",
      "d G / d P                                                                        [kJ_mol / GPa] 67.60460   +/- 0.02152   \n"
     ]
    }
   ],
   "source": [
    "if os.path.isdir(DROOT + \"/PINPT/\"):\n",
    "    CDIR = DROOT + \"/PINPT/\"\n",
    "\n",
    "    nfeq = 100\n",
    "    nfmax = 1000000\n",
    "\n",
    "    volume = np.loadtxt(CDIR + 'simulation.vir', usecols=(6,))[nfeq:nfeq + nfmax]\n",
    "    v_blocks = [np.mean(v) for v in np.array_split(volume, nblocks)]\n",
    "    \n",
    "    dGdP = np.mean(v_blocks) / n_units * Bohr3tokJmolGPa\n",
    "    dGdP_err = np.std(v_blocks) / np.sqrt(nblocks) / n_units * Bohr3tokJmolGPa\n",
    "\n",
    "    CDIR = DROOT + \"/HARM/\"\n",
    "    volume_nvt = np.loadtxt(CDIR + 'simulation.out', usecols=(2,))\n",
    "\n",
    "    h_volume, e_volume = np.histogram(volume, 100, density=True)\n",
    "    i_volume_nvt = np.argmin((e_volume-volume_nvt)**2)\n",
    "    p_volume = np.log((h_volume[i_volume_nvt] + h_volume[i_volume_nvt + 1] + h_volume[i_volume_nvt -1]) / 3.0)\n",
    "\n",
    "    p_ext = 0.1 * MPa2au\n",
    "\n",
    "    dG_anharm_quantum = (p_ext * volume_nvt + kBT * p_volume * Hartree2Kcalmol / n_units * KcaltoKJ)\n",
    "    G_anharm_quantum = A_anharm_quantum + dG_anharm_quantum\n",
    "\n",
    "    print (\"%-80s %-10s %-10.5f\" % (\"Quantum anharmonic Gibbs free energy\", \"[kJ_mol]\", G_anharm_quantum))\n",
    "    print (\"%-80s %-10s %-10.5f\" % (\"Quantum anharmonic Gibbs free energy - Quantum anharmonic free energy\", \"[kJ_mol]\", dG_anharm_quantum)) \n",
    "    print (\"%-80s %-10s %-10.5f +/- %-10.5f\" % (\"d G / d P\", \"[kJ_mol / GPa]\", dGdP, dGdP_err))\n",
    "\n",
    "else:\n",
    "    G_anharm_quantum = None \n"
   ]
  },
  {
   "cell_type": "markdown",
   "metadata": {},
   "source": [
    "### CLASSICAL HARMONIC TO ANHARMONIC "
   ]
  },
  {
   "cell_type": "code",
   "execution_count": 8,
   "metadata": {},
   "outputs": [
    {
     "name": "stdout",
     "output_type": "stream",
     "text": [
      "Classical anharmonic free energy                                       [kJ_mol]   -99059.67226\n",
      "Classical anharmonic free energy - Classical anharmonic free energy    [kJ_mol]   -0.14533   +/- 0.00317   \n"
     ]
    },
    {
     "data": {
      "image/png": "[encoded data removed]",
      "text/plain": [
       "<Figure size 432x288 with 1 Axes>"
      ]
     },
     "metadata": {
      "needs_background": "light"
     },
     "output_type": "display_data"
    }
   ],
   "source": [
    "# Performs a TI from aharmonic reference to an anharmonic one.\n",
    "\n",
    "CDIR = DROOT + \"/CTI-HARM-TO-ANHARM/\"\n",
    "l_list = np.loadtxt(CDIR + \"LAMBDAS\", dtype='S32')\n",
    "l_list = [l.decode('ascii') for l in np.loadtxt(CDIR + \"LAMBDAS\", dtype='S32')]\n",
    "\n",
    "\n",
    "nfeq = 100\n",
    "nfmax = 1000000\n",
    "nblocks = 5\n",
    "mf_blocks = np.zeros((len(l_list), nblocks))\n",
    "\n",
    "for i,il in enumerate(l_list):\n",
    "    U_harm = np.loadtxt(CDIR + str(il) + \"/simulation.pots\", usecols=(2))[nfeq:nfeq + nfmax] * Hartree2Kcalmol / n_units * KcaltoKJ \n",
    "    U_anharm = np.loadtxt(CDIR + str(il) + \"/simulation.pots\", usecols=(0))[nfeq:nfeq + nfmax] * Hartree2Kcalmol / n_units * KcaltoKJ \n",
    "    U_anharm += np.loadtxt(CDIR + str(il) + \"/simulation.pots\", usecols=(1))[nfeq:nfeq + nfmax] * Hartree2Kcalmol / n_units * KcaltoKJ\n",
    "\n",
    "\n",
    "    #np.random.shuffle(U_harm)\n",
    "    #np.random.shuffle(U_anharm)\n",
    "    \n",
    "    mf_block_list = np.array_split(U_anharm - U_harm, nblocks)\n",
    "    mf_blocks[i] = [np.mean(mf) for mf in mf_block_list]\n",
    "\n",
    "dA_classical_anharmonic_minus_harmonic_list = []\n",
    "for j in range(nblocks):\n",
    "    x = np.asarray([float(il) for il in l_list])\n",
    "    y = mf_blocks.T[j]\n",
    "    dA_classical_anharmonic_minus_harmonic_list.append(np.trapz(x=x,y=y))\n",
    "    plt.title(\"Classical Harmonic to Quantum Anharmonic Thermodynamic Integration\", fontsize=14)\n",
    "    plt.xlabel('Kirkwood coefficient [Dimensionless]')\n",
    "    plt.ylabel('Mean force [kcal_mol]')\n",
    "    plt.plot(x, y)\n",
    "\n",
    "dA_classical_anharmonic_minus_harmonic = np.mean(dA_classical_anharmonic_minus_harmonic_list)\n",
    "dA_classical_anharmonic_minus_harmonic_err =np.std(dA_classical_anharmonic_minus_harmonic_list) / np.sqrt(nblocks)\n",
    "\n",
    "print (\"%-70s %-10s %-10.5f\" % (\"Classical anharmonic free energy\", \"[kJ_mol]\", A_harm_classical + dA_classical_anharmonic_minus_harmonic))\n",
    "print (\"%-70s %-10s %-10.5f +/- %-10.5f\" % (\"Classical anharmonic free energy - Classical anharmonic free energy\", \"[kJ_mol]\", dA_classical_anharmonic_minus_harmonic, dA_classical_anharmonic_minus_harmonic_err))                         \n",
    "\n"
   ]
  },
  {
   "cell_type": "code",
   "execution_count": 9,
   "metadata": {},
   "outputs": [
    {
     "name": "stdout",
     "output_type": "stream",
     "text": [
      "Classical anharmonic Gibbs free energy                                           [kJ_mol]   -99060.32306\n",
      "Classical anharmonic Gibbs free energy - Quantum anharmonic free energy          [kJ_mol]   -0.65080  \n"
     ]
    }
   ],
   "source": [
    "if os.path.isdir(DROOT + \"/PINPT/\"):\n",
    "    CDIR = DROOT + \"/NPT/\"\n",
    "\n",
    "    nfeq = 100\n",
    "    nfmax = 1000000\n",
    "\n",
    "    volume = np.loadtxt(CDIR + 'simulation.vir', usecols=(6,))[nfeq:nfeq + nfmax]\n",
    "\n",
    "    CDIR = DROOT + \"/HARM/\"\n",
    "    volume_nvt = np.loadtxt(CDIR + 'simulation.out', usecols=(2,))\n",
    "\n",
    "    h_volume, e_volume = np.histogram(volume, 100, density=True)\n",
    "    i_volume_nvt = np.argmin((e_volume-volume_nvt)**2)\n",
    "    p_volume = np.log((h_volume[i_volume_nvt] + h_volume[i_volume_nvt + 1] + h_volume[i_volume_nvt -1]) / 3.0)\n",
    "\n",
    "    p_ext = 0.1 * MPa2au\n",
    "\n",
    "    dG_anharm_classical = (p_ext * volume_nvt + kBT * p_volume * Hartree2Kcalmol / n_units * KcaltoKJ)\n",
    "    G_anharm_classical = A_harm_classical + dA_classical_anharmonic_minus_harmonic + dG_anharm_classical\n",
    "\n",
    "    print (\"%-80s %-10s %-10.5f\" % (\"Classical anharmonic Gibbs free energy\", \"[kJ_mol]\", G_anharm_classical))\n",
    "    print (\"%-80s %-10s %-10.5f\" % (\"Classical anharmonic Gibbs free energy - Quantum anharmonic free energy\", \"[kJ_mol]\", dG_anharm_classical)) \n",
    "else:\n",
    "    G_anharm_classical = None"
   ]
  },
  {
   "cell_type": "code",
   "execution_count": 10,
   "metadata": {},
   "outputs": [
    {
     "name": "stdout",
     "output_type": "stream",
     "text": [
      "Summary:\n",
      "Minimum energy                                     [kJ_mol]             -99133.26867\n",
      "Classical harmonic free energy                     [kJ_mol]             -99059.52693\n",
      "Classical anharmonic free energy                   [kJ_mol]             -99059.67226\n",
      "Quantum harmonic free energy                       [kJ_mol]             -98864.46710\n",
      "Quantum anharmonic free energy                     [kJ_mol]             -98867.47953\n",
      "Gibbs free energy\n",
      "Classical anharmonic Gibbs free energy             [kcal_mol]           -99060.32306 +/-    0.00317\n",
      "Quantum anharmonic Gibbs free energy               [kcal_mol]           -98868.05428 +/-    0.03070\n"
     ]
    }
   ],
   "source": [
    "print (\"Summary:\")\n",
    "print (\"%-50s %-20s %-10.5f\" % (\"Minimum energy\", \"[kJ_mol]\", Umin))\n",
    "print (\"%-50s %-20s %-10.5f\" % (\"Classical harmonic free energy\", \"[kJ_mol]\", A_harm_classical))\n",
    "print (\"%-50s %-20s %-10.5f\" % (\"Classical anharmonic free energy\", \"[kJ_mol]\", A_harm_classical + dA_classical_anharmonic_minus_harmonic))\n",
    "print (\"%-50s %-20s %-10.5f\" % (\"Quantum harmonic free energy\", \"[kJ_mol]\", A_harm_quantum))\n",
    "print (\"%-50s %-20s %-10.5f\" % (\"Quantum anharmonic free energy\", \"[kJ_mol]\", A_anharm_quantum))\n",
    "\n",
    "if G_anharm_classical != None:\n",
    "    print (\"Gibbs free energy\")\n",
    "    print (\"%-50s %-20s %-10.5f +/- %10.5f\" % (\"Classical anharmonic Gibbs free energy\", \"[kcal_mol]\", G_anharm_classical,dA_classical_anharmonic_minus_harmonic_err))\n",
    "if G_anharm_quantum != None:\n",
    "    print (\"%-50s %-20s %-10.5f +/- %10.5f\" % (\"Quantum anharmonic Gibbs free energy\", \"[kcal_mol]\", G_anharm_quantum, A_anharm_quantum_err))\n"
   ]
  },
  {
   "cell_type": "markdown",
   "metadata": {},
   "source": [
    "### CLASSICAL ANHARMONIC TO CLASSICAL ANHARMONIC"
   ]
  },
  {
   "cell_type": "code",
   "execution_count": 58,
   "metadata": {},
   "outputs": [
    {
     "ename": "SyntaxError",
     "evalue": "invalid syntax (<ipython-input-58-f198a6e1ddfd>, line 40)",
     "output_type": "error",
     "traceback": [
      "\u001b[0;36m  File \u001b[0;32m\"<ipython-input-58-f198a6e1ddfd>\"\u001b[0;36m, line \u001b[0;32m40\u001b[0m\n\u001b[0;31m    print \"%-70s %-10s %-10.5f\" % (\"Quantum anharmonic free energy\", \"[kcal_mol]\", A_harm_classical + dA_classical_anharmonic_minus_harmonic + dA_quantum_anharmonic_minus_classical_anharmonic)\u001b[0m\n\u001b[0m                              ^\u001b[0m\n\u001b[0;31mSyntaxError\u001b[0m\u001b[0;31m:\u001b[0m invalid syntax\n"
     ]
    }
   ],
   "source": [
    "CDIR = DROOT + 'QTI-CL-TO-QN/'\n",
    "l_list = np.loadtxt(CDIR + \"G.DATA\", dtype='S32')\n",
    "l_list = np.insert(l_list, 0, '0.0')\n",
    "\n",
    "nfeq = 100\n",
    "nfmax = 1000000\n",
    "nblocks = 5\n",
    "mf_blocks = np.zeros((len(l_list), nblocks))\n",
    "\n",
    "for i,il in enumerate(l_list):\n",
    "    \n",
    "    if i == 0:\n",
    "        continue\n",
    "\n",
    "    T_classical = 3.0 * float(N) * kBT / 2.0 * Hartree2Kcalmol / n_units * KcaltoKJ \n",
    "    T_quantum = np.loadtxt(CDIR + str(il) + '/simulation.out', usecols=(4,))[nfeq:nfeq + nfmax] * Hartree2Kcalmol / n_units * KcaltoKJ \n",
    "    \n",
    "    np.random.shuffle(T_quantum)\n",
    "    \n",
    "    \n",
    "    mf_block_list = np.array_split(2 * (T_quantum - T_classical) / float(il), nblocks)\n",
    "    mf_blocks[i] = [np.mean(mf) for mf in mf_block_list]\n",
    "\n",
    "dA_quantum_anharmonic_minus_classical_anharmonic_list = []\n",
    "for j in range(nblocks):\n",
    "    x = np.asarray([float(il) for il in l_list])\n",
    "    y = mf_blocks.T[j]\n",
    "    dA_quantum_anharmonic_minus_classical_anharmonic_list.append(np.trapz(x=x,y=y))\n",
    "    plt.title(\"Classical Anharmonic to Quantum Anharmonic Thermodynamic Integration\", fontsize=14)\n",
    "    plt.xlabel('Alchemical factor [Dimensionless]')\n",
    "    plt.ylabel('Mean force [kJ_mol]')\n",
    "    plt.plot(x, y)\n",
    "\n",
    "dA_quantum_anharmonic_minus_classical_anharmonic = np.mean(dA_quantum_anharmonic_minus_classical_anharmonic_list)\n",
    "dA_quantum_anharmonic_minus_classical_anharmonic_err =np.std(dA_quantum_anharmonic_minus_classical_anharmonic_list) / np.sqrt(nblocks)\n",
    "\n",
    "A_anharm_quantum = A_harm_classical + dA_classical_anharmonic_minus_harmonic + dA_quantum_anharmonic_minus_classical_anharmonic\n",
    "A_anharm_quantum_err = (dA_classical_anharmonic_minus_harmonic_err**2 + dA_quantum_anharmonic_minus_classical_anharmonic**2)**0.50\n",
    "\n",
    "print \"%-70s %-10s %-10.5f\" % (\"Quantum anharmonic free energy\", \"[kcal_mol]\", A_harm_classical + dA_classical_anharmonic_minus_harmonic + dA_quantum_anharmonic_minus_classical_anharmonic)\n",
    "print \"%-70s %-10s %-10.5f +/- %-10.5f\" % (\"Classical anharmonic free energy - Quantum anharmonic free energy\", \"[kcal_mol]\", A_anharm_quantum - A_harm_quantum, dA_quantum_anharmonic_minus_classical_anharmonic_err)                         \n"
   ]
  },
  {
   "cell_type": "code",
   "execution_count": null,
   "metadata": {},
   "outputs": [],
   "source": []
  },
  {
   "cell_type": "code",
   "execution_count": null,
   "metadata": {},
   "outputs": [],
   "source": []
  }
 ],
 "metadata": {
  "kernelspec": {
   "display_name": "Python 3",
   "language": "python",
   "name": "python3"
  },
  "language_info": {
   "codemirror_mode": {
    "name": "ipython",
    "version": 3
   },
   "file_extension": ".py",
   "mimetype": "text/x-python",
   "name": "python",
   "nbconvert_exporter": "python",
   "pygments_lexer": "ipython3",
   "version": "3.8.5"
  }
 },
 "nbformat": 4,
 "nbformat_minor": 2
}
